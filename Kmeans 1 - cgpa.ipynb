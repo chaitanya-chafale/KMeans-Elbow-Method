{
 "cells": [
  {
   "cell_type": "code",
   "execution_count": 21,
   "metadata": {},
   "outputs": [],
   "source": [
    "import pandas as pd\n",
    "import matplotlib.pyplot as plt\n",
    "import numpy as np\n",
    "from sklearn.cluster import KMeans\n",
    "import matplotlib.cm as cm"
   ]
  },
  {
   "cell_type": "code",
   "execution_count": 22,
   "metadata": {},
   "outputs": [
    {
     "data": {
      "text/plain": [
       "array([ 9.1 ,  9.2 ,  8.2 ,  8.  ,  8.2 ,  5.9 ,  9.05,  8.9 ,  8.  ,\n",
       "        6.9 ,  8.2 ,  8.1 , 10.  ,  9.5 ,  7.9 ,  5.3 ,  6.5 ,  9.3 ,\n",
       "        8.2 ,  9.8 ,  8.8 ,  6.6 ,  9.5 ,  7.8 ,  8.  ,  9.9 , 10.  ,\n",
       "        6.8 ,  7.6 ,  7.8 ,  8.64,  9.56,  8.99,  9.25,  9.1 ,  5.65,\n",
       "        5.95,  6.65,  7.36])"
      ]
     },
     "execution_count": 22,
     "metadata": {},
     "output_type": "execute_result"
    }
   ],
   "source": [
    "df = pd.read_csv(\"C:\\\\Users\\\\Ashwin Chafale\\\\Desktop\\\\kmeans algo with elbow point\\\\CGPA.csv\")\n",
    "arr = np.array(df['CGPA'])\n",
    "arr"
   ]
  },
  {
   "cell_type": "code",
   "execution_count": 23,
   "metadata": {},
   "outputs": [
    {
     "data": {
      "text/plain": [
       "Text(0.5, 0, 'CGPA VALUE')"
      ]
     },
     "execution_count": 23,
     "metadata": {},
     "output_type": "execute_result"
    },
    {
     "data": {
      "image/png": "[encoded data removed]",
      "text/plain": [
       "<Figure size 432x288 with 1 Axes>"
      ]
     },
     "metadata": {
      "needs_background": "light"
     },
     "output_type": "display_data"
    }
   ],
   "source": [
    "y = np.zeros(len(arr))\n",
    "plt.scatter(arr,y,color = 'm')\n",
    "plt.xticks(np.arange(5, 10.5, .5))\n",
    "plt.xlabel('CGPA VALUE')"
   ]
  },
  {
   "cell_type": "code",
   "execution_count": 24,
   "metadata": {},
   "outputs": [
    {
     "data": {
      "text/plain": [
       "[62.78975897435896,\n",
       " 19.27132240259741,\n",
       " 6.10024375,\n",
       " 3.855219391025642,\n",
       " 1.8559790476190472,\n",
       " 1.301984603174602,\n",
       " 0.9283388888888879,\n",
       " 0.7150055555555541,\n",
       " 0.5534049999999994,\n",
       " 0.3851499999999994]"
      ]
     },
     "execution_count": 24,
     "metadata": {},
     "output_type": "execute_result"
    }
   ],
   "source": [
    "k_range = range(1,11)\n",
    "inertias = []\n",
    "for k in k_range:\n",
    "    km = KMeans(n_clusters = k)\n",
    "    km.fit(df[['CGPA']])\n",
    "    inertias.append(km.inertia_)\n",
    "y = np.zeros(len(inertias))\n",
    "inertias"
   ]
  },
  {
   "cell_type": "code",
   "execution_count": 25,
   "metadata": {},
   "outputs": [
    {
     "data": {
      "text/plain": [
       "([<matplotlib.axis.XTick at 0x1e2d4269be0>,\n",
       "  <matplotlib.axis.XTick at 0x1e2d4269bb0>,\n",
       "  <matplotlib.axis.XTick at 0x1e2d424e160>,\n",
       "  <matplotlib.axis.XTick at 0x1e2d4286640>,\n",
       "  <matplotlib.axis.XTick at 0x1e2d4286b50>,\n",
       "  <matplotlib.axis.XTick at 0x1e2d428b0a0>,\n",
       "  <matplotlib.axis.XTick at 0x1e2d428b5b0>,\n",
       "  <matplotlib.axis.XTick at 0x1e2d428bac0>,\n",
       "  <matplotlib.axis.XTick at 0x1e2d42866d0>],\n",
       " <a list of 9 Text major ticklabel objects>)"
      ]
     },
     "execution_count": 25,
     "metadata": {},
     "output_type": "execute_result"
    },
    {
     "data": {
      "image/png": "[encoded data removed]",
      "text/plain": [
       "<Figure size 432x288 with 1 Axes>"
      ]
     },
     "metadata": {
      "needs_background": "light"
     },
     "output_type": "display_data"
    }
   ],
   "source": [
    "plt.plot(inertias)\n",
    "plt.xlabel('K Value')\n",
    "plt.ylabel('SUM OF SQUARE ERROR')\n",
    "plt.xticks(np.arange(0, 9, 1))"
   ]
  },
  {
   "cell_type": "code",
   "execution_count": 26,
   "metadata": {},
   "outputs": [
    {
     "data": {
      "text/plain": [
       "2"
      ]
     },
     "execution_count": 26,
     "metadata": {},
     "output_type": "execute_result"
    }
   ],
   "source": [
    "from kneed import KneeLocator\n",
    "kn = KneeLocator(k_range, inertias, curve='convex', direction='decreasing')\n",
    "elbow_point = kn.knee - 1\n",
    "elbow_point"
   ]
  },
  {
   "cell_type": "code",
   "execution_count": 27,
   "metadata": {},
   "outputs": [
    {
     "data": {
      "text/plain": [
       "array([0, 0, 0, 0, 0, 1, 0, 0, 0, 1, 0, 0, 0, 0, 0, 1, 1, 0, 0, 0, 0, 1,\n",
       "       0, 0, 0, 0, 0, 1, 1, 0, 0, 0, 0, 0, 0, 1, 1, 1, 1])"
      ]
     },
     "execution_count": 27,
     "metadata": {},
     "output_type": "execute_result"
    }
   ],
   "source": [
    "# elbow_point = 3\n",
    "km = KMeans(n_clusters = elbow_point)\n",
    "y_predicted = km.fit_predict(df[['CGPA']])\n",
    "y_predicted\n"
   ]
  },
  {
   "cell_type": "code",
   "execution_count": 28,
   "metadata": {},
   "outputs": [
    {
     "data": {
      "text/html": [
       "<div>\n",
       "<style scoped>\n",
       "    .dataframe tbody tr th:only-of-type {\n",
       "        vertical-align: middle;\n",
       "    }\n",
       "\n",
       "    .dataframe tbody tr th {\n",
       "        vertical-align: top;\n",
       "    }\n",
       "\n",
       "    .dataframe thead th {\n",
       "        text-align: right;\n",
       "    }\n",
       "</style>\n",
       "<table border=\"1\" class=\"dataframe\">\n",
       "  <thead>\n",
       "    <tr style=\"text-align: right;\">\n",
       "      <th></th>\n",
       "      <th>Name</th>\n",
       "      <th>CGPA</th>\n",
       "      <th>cluster</th>\n",
       "    </tr>\n",
       "  </thead>\n",
       "  <tbody>\n",
       "    <tr>\n",
       "      <th>0</th>\n",
       "      <td>KAUSHAL AGARWAL</td>\n",
       "      <td>9.10</td>\n",
       "      <td>0</td>\n",
       "    </tr>\n",
       "    <tr>\n",
       "      <th>1</th>\n",
       "      <td>ADARSH PANIKAR</td>\n",
       "      <td>9.20</td>\n",
       "      <td>0</td>\n",
       "    </tr>\n",
       "    <tr>\n",
       "      <th>2</th>\n",
       "      <td>LAKSHAY HIRANI</td>\n",
       "      <td>8.20</td>\n",
       "      <td>0</td>\n",
       "    </tr>\n",
       "    <tr>\n",
       "      <th>3</th>\n",
       "      <td>SIDDHANT HADA</td>\n",
       "      <td>8.00</td>\n",
       "      <td>0</td>\n",
       "    </tr>\n",
       "    <tr>\n",
       "      <th>4</th>\n",
       "      <td>SUDHANSHU KUMAR</td>\n",
       "      <td>8.20</td>\n",
       "      <td>0</td>\n",
       "    </tr>\n",
       "    <tr>\n",
       "      <th>5</th>\n",
       "      <td>KALYAN PILLI</td>\n",
       "      <td>5.90</td>\n",
       "      <td>1</td>\n",
       "    </tr>\n",
       "    <tr>\n",
       "      <th>6</th>\n",
       "      <td>KUNAL GUPTA</td>\n",
       "      <td>9.05</td>\n",
       "      <td>0</td>\n",
       "    </tr>\n",
       "    <tr>\n",
       "      <th>7</th>\n",
       "      <td>SARTHAK SINGHAL</td>\n",
       "      <td>8.90</td>\n",
       "      <td>0</td>\n",
       "    </tr>\n",
       "    <tr>\n",
       "      <th>8</th>\n",
       "      <td>YASH SALUJA</td>\n",
       "      <td>8.00</td>\n",
       "      <td>0</td>\n",
       "    </tr>\n",
       "    <tr>\n",
       "      <th>9</th>\n",
       "      <td>NITIN KAUSHIK</td>\n",
       "      <td>6.90</td>\n",
       "      <td>1</td>\n",
       "    </tr>\n",
       "    <tr>\n",
       "      <th>10</th>\n",
       "      <td>SANAT THAKUR</td>\n",
       "      <td>8.20</td>\n",
       "      <td>0</td>\n",
       "    </tr>\n",
       "    <tr>\n",
       "      <th>11</th>\n",
       "      <td>DIWIK GOYAL</td>\n",
       "      <td>8.10</td>\n",
       "      <td>0</td>\n",
       "    </tr>\n",
       "    <tr>\n",
       "      <th>12</th>\n",
       "      <td>RAM SHARMA</td>\n",
       "      <td>10.00</td>\n",
       "      <td>0</td>\n",
       "    </tr>\n",
       "    <tr>\n",
       "      <th>13</th>\n",
       "      <td>SARTHAK GOYAL</td>\n",
       "      <td>9.50</td>\n",
       "      <td>0</td>\n",
       "    </tr>\n",
       "    <tr>\n",
       "      <th>14</th>\n",
       "      <td>ABHINAV SINGH</td>\n",
       "      <td>7.90</td>\n",
       "      <td>0</td>\n",
       "    </tr>\n",
       "    <tr>\n",
       "      <th>15</th>\n",
       "      <td>JOHN</td>\n",
       "      <td>5.30</td>\n",
       "      <td>1</td>\n",
       "    </tr>\n",
       "    <tr>\n",
       "      <th>16</th>\n",
       "      <td>SIMRAN</td>\n",
       "      <td>6.50</td>\n",
       "      <td>1</td>\n",
       "    </tr>\n",
       "    <tr>\n",
       "      <th>17</th>\n",
       "      <td>NEHA</td>\n",
       "      <td>9.30</td>\n",
       "      <td>0</td>\n",
       "    </tr>\n",
       "    <tr>\n",
       "      <th>18</th>\n",
       "      <td>SHRUTI</td>\n",
       "      <td>8.20</td>\n",
       "      <td>0</td>\n",
       "    </tr>\n",
       "    <tr>\n",
       "      <th>19</th>\n",
       "      <td>SRISHTI</td>\n",
       "      <td>9.80</td>\n",
       "      <td>0</td>\n",
       "    </tr>\n",
       "    <tr>\n",
       "      <th>20</th>\n",
       "      <td>ATHARVA</td>\n",
       "      <td>8.80</td>\n",
       "      <td>0</td>\n",
       "    </tr>\n",
       "    <tr>\n",
       "      <th>21</th>\n",
       "      <td>PRATHMESH</td>\n",
       "      <td>6.60</td>\n",
       "      <td>1</td>\n",
       "    </tr>\n",
       "    <tr>\n",
       "      <th>22</th>\n",
       "      <td>CHAITANYA</td>\n",
       "      <td>9.50</td>\n",
       "      <td>0</td>\n",
       "    </tr>\n",
       "    <tr>\n",
       "      <th>23</th>\n",
       "      <td>RUCHIRA</td>\n",
       "      <td>7.80</td>\n",
       "      <td>0</td>\n",
       "    </tr>\n",
       "    <tr>\n",
       "      <th>24</th>\n",
       "      <td>ASHWIN</td>\n",
       "      <td>8.00</td>\n",
       "      <td>0</td>\n",
       "    </tr>\n",
       "    <tr>\n",
       "      <th>25</th>\n",
       "      <td>VIBHA</td>\n",
       "      <td>9.90</td>\n",
       "      <td>0</td>\n",
       "    </tr>\n",
       "    <tr>\n",
       "      <th>26</th>\n",
       "      <td>VISHVESH</td>\n",
       "      <td>10.00</td>\n",
       "      <td>0</td>\n",
       "    </tr>\n",
       "    <tr>\n",
       "      <th>27</th>\n",
       "      <td>PAWAN</td>\n",
       "      <td>6.80</td>\n",
       "      <td>1</td>\n",
       "    </tr>\n",
       "    <tr>\n",
       "      <th>28</th>\n",
       "      <td>OMKAR</td>\n",
       "      <td>7.60</td>\n",
       "      <td>1</td>\n",
       "    </tr>\n",
       "    <tr>\n",
       "      <th>29</th>\n",
       "      <td>PIYUSH</td>\n",
       "      <td>7.80</td>\n",
       "      <td>0</td>\n",
       "    </tr>\n",
       "    <tr>\n",
       "      <th>30</th>\n",
       "      <td>ASHU</td>\n",
       "      <td>8.64</td>\n",
       "      <td>0</td>\n",
       "    </tr>\n",
       "    <tr>\n",
       "      <th>31</th>\n",
       "      <td>GAYATRI</td>\n",
       "      <td>9.56</td>\n",
       "      <td>0</td>\n",
       "    </tr>\n",
       "    <tr>\n",
       "      <th>32</th>\n",
       "      <td>MARK</td>\n",
       "      <td>8.99</td>\n",
       "      <td>0</td>\n",
       "    </tr>\n",
       "    <tr>\n",
       "      <th>33</th>\n",
       "      <td>DHONI</td>\n",
       "      <td>9.25</td>\n",
       "      <td>0</td>\n",
       "    </tr>\n",
       "    <tr>\n",
       "      <th>34</th>\n",
       "      <td>VIRAT</td>\n",
       "      <td>9.10</td>\n",
       "      <td>0</td>\n",
       "    </tr>\n",
       "    <tr>\n",
       "      <th>35</th>\n",
       "      <td>JADEJA</td>\n",
       "      <td>5.65</td>\n",
       "      <td>1</td>\n",
       "    </tr>\n",
       "    <tr>\n",
       "      <th>36</th>\n",
       "      <td>BHUVI</td>\n",
       "      <td>5.95</td>\n",
       "      <td>1</td>\n",
       "    </tr>\n",
       "    <tr>\n",
       "      <th>37</th>\n",
       "      <td>BOOMBOOM</td>\n",
       "      <td>6.65</td>\n",
       "      <td>1</td>\n",
       "    </tr>\n",
       "    <tr>\n",
       "      <th>38</th>\n",
       "      <td>YUVI</td>\n",
       "      <td>7.36</td>\n",
       "      <td>1</td>\n",
       "    </tr>\n",
       "  </tbody>\n",
       "</table>\n",
       "</div>"
      ],
      "text/plain": [
       "               Name   CGPA  cluster\n",
       "0   KAUSHAL AGARWAL   9.10        0\n",
       "1    ADARSH PANIKAR   9.20        0\n",
       "2    LAKSHAY HIRANI   8.20        0\n",
       "3     SIDDHANT HADA   8.00        0\n",
       "4   SUDHANSHU KUMAR   8.20        0\n",
       "5      KALYAN PILLI   5.90        1\n",
       "6       KUNAL GUPTA   9.05        0\n",
       "7   SARTHAK SINGHAL   8.90        0\n",
       "8       YASH SALUJA   8.00        0\n",
       "9     NITIN KAUSHIK   6.90        1\n",
       "10     SANAT THAKUR   8.20        0\n",
       "11      DIWIK GOYAL   8.10        0\n",
       "12       RAM SHARMA  10.00        0\n",
       "13    SARTHAK GOYAL   9.50        0\n",
       "14    ABHINAV SINGH   7.90        0\n",
       "15             JOHN   5.30        1\n",
       "16           SIMRAN   6.50        1\n",
       "17             NEHA   9.30        0\n",
       "18           SHRUTI   8.20        0\n",
       "19          SRISHTI   9.80        0\n",
       "20          ATHARVA   8.80        0\n",
       "21        PRATHMESH   6.60        1\n",
       "22        CHAITANYA   9.50        0\n",
       "23          RUCHIRA   7.80        0\n",
       "24           ASHWIN   8.00        0\n",
       "25            VIBHA   9.90        0\n",
       "26         VISHVESH  10.00        0\n",
       "27            PAWAN   6.80        1\n",
       "28            OMKAR   7.60        1\n",
       "29           PIYUSH   7.80        0\n",
       "30             ASHU   8.64        0\n",
       "31          GAYATRI   9.56        0\n",
       "32             MARK   8.99        0\n",
       "33            DHONI   9.25        0\n",
       "34            VIRAT   9.10        0\n",
       "35           JADEJA   5.65        1\n",
       "36            BHUVI   5.95        1\n",
       "37         BOOMBOOM   6.65        1\n",
       "38             YUVI   7.36        1"
      ]
     },
     "execution_count": 28,
     "metadata": {},
     "output_type": "execute_result"
    }
   ],
   "source": [
    "df['cluster']=y_predicted\n",
    "df"
   ]
  },
  {
   "cell_type": "code",
   "execution_count": 29,
   "metadata": {},
   "outputs": [
    {
     "data": {
      "text/plain": [
       "array([[8.82107143],\n",
       "       [6.47363636]])"
      ]
     },
     "execution_count": 29,
     "metadata": {},
     "output_type": "execute_result"
    }
   ],
   "source": [
    "km.cluster_centers_"
   ]
  },
  {
   "cell_type": "code",
   "execution_count": 30,
   "metadata": {},
   "outputs": [
    {
     "data": {
      "text/plain": [
       "([<matplotlib.axis.XTick at 0x1e2d3ee39d0>,\n",
       "  <matplotlib.axis.XTick at 0x1e2d3ee3250>,\n",
       "  <matplotlib.axis.XTick at 0x1e2d4051dc0>,\n",
       "  <matplotlib.axis.XTick at 0x1e2d4255d90>,\n",
       "  <matplotlib.axis.XTick at 0x1e2d424e5e0>,\n",
       "  <matplotlib.axis.XTick at 0x1e2d411cbe0>,\n",
       "  <matplotlib.axis.XTick at 0x1e2d42b0c70>,\n",
       "  <matplotlib.axis.XTick at 0x1e2d42697c0>,\n",
       "  <matplotlib.axis.XTick at 0x1e2d42aaaf0>,\n",
       "  <matplotlib.axis.XTick at 0x1e2d419db50>,\n",
       "  <matplotlib.axis.XTick at 0x1e2d4129790>],\n",
       " <a list of 11 Text major ticklabel objects>)"
      ]
     },
     "execution_count": 30,
     "metadata": {},
     "output_type": "execute_result"
    },
    {
     "data": {
      "image/png": "[encoded data removed]",
      "text/plain": [
       "<Figure size 432x288 with 1 Axes>"
      ]
     },
     "metadata": {
      "needs_background": "light"
     },
     "output_type": "display_data"
    }
   ],
   "source": [
    "color = ['tomato','limegreen','midnightblue','blueviolet', 'g', 'r', 'c', 'm', 'wheat', 'k']\n",
    "for i in range(elbow_point):\n",
    "    df0 = df[df.cluster == i]\n",
    "    y = np.zeros(len(df0['CGPA']))\n",
    "    plt.scatter(df0.CGPA,y,color = color[i],label = 'CLUSTER ' + str(i))\n",
    "y = np.zeros(len(km.cluster_centers_))   \n",
    "plt.scatter(km.cluster_centers_[:],y,color = 'yellow',marker = '*',label = 'CENTRIOD',s = 500)\n",
    "plt.legend()\n",
    "plt.xlabel(\"CGPA VALUES\")\n",
    "plt.xticks(np.arange(5, 10.5, .5))"
   ]
  }
 ],
 "metadata": {
  "kernelspec": {
   "display_name": "Python 3",
   "language": "python",
   "name": "python3"
  },
  "language_info": {
   "codemirror_mode": {
    "name": "ipython",
    "version": 3
   },
   "file_extension": ".py",
   "mimetype": "text/x-python",
   "name": "python",
   "nbconvert_exporter": "python",
   "pygments_lexer": "ipython3",
   "version": "3.8.3"
  }
 },
 "nbformat": 4,
 "nbformat_minor": 4
}
